{
 "cells": [
  {
   "cell_type": "code",
   "execution_count": 1,
   "metadata": {},
   "outputs": [],
   "source": [
    "import ipyvuetify as v\n",
    "import ipywidgets as w"
   ]
  },
  {
   "cell_type": "code",
   "execution_count": 2,
   "metadata": {},
   "outputs": [],
   "source": [
    "out = w.Output()\n",
    "text = v.TextField(label='Enter Text', v_model=\"\")\n",
    "\n",
    "def on_btn_clicked(widget, event, data):\n",
    "    with out:\n",
    "        print(\"Button clicked\")\n",
    "        print(text.v_model)\n",
    "        print(data)\n",
    "    \n",
    "btn = v.Btn(children=[\"Ok\"])\n",
    "btn.on_event('click', on_btn_clicked)"
   ]
  },
  {
   "cell_type": "code",
   "execution_count": 3,
   "metadata": {},
   "outputs": [
    {
     "data": {
      "application/vnd.jupyter.widget-view+json": {
       "model_id": "8290db656841429f93fc86a1ee60b02b",
       "version_major": 2,
       "version_minor": 0
      },
      "text/plain": [
       "Container(children=[TextField(label='Enter Text', v_model=''), Btn(children=['Ok']), Output()])"
      ]
     },
     "metadata": {},
     "output_type": "display_data"
    }
   ],
   "source": [
    "v.Container(children=[\n",
    "    text,\n",
    "    btn,\n",
    "    out\n",
    "])"
   ]
  },
  {
   "cell_type": "code",
   "execution_count": 4,
   "metadata": {},
   "outputs": [],
   "source": [
    "out.clear_output()"
   ]
  }
 ],
 "metadata": {
  "kernelspec": {
   "display_name": "Python 3 (ipykernel)",
   "language": "python",
   "name": "python3"
  },
  "language_info": {
   "codemirror_mode": {
    "name": "ipython",
    "version": 3
   },
   "file_extension": ".py",
   "mimetype": "text/x-python",
   "name": "python",
   "nbconvert_exporter": "python",
   "pygments_lexer": "ipython3",
   "version": "3.8.10"
  }
 },
 "nbformat": 4,
 "nbformat_minor": 2
}
