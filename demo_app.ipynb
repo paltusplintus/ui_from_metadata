{
 "cells": [
  {
   "cell_type": "code",
   "execution_count": 2,
   "metadata": {},
   "outputs": [],
   "source": [
    "import ipyvuetify as v"
   ]
  },
  {
   "cell_type": "code",
   "execution_count": 5,
   "metadata": {},
   "outputs": [],
   "source": [
    "def on_btn_clicked(widget, event, data):\n",
    "    print(\"Button clicked\")\n",
    "    print(data)\n",
    "    \n",
    "btn = v.Btn(children=[\"Ok\"])\n",
    "btn.on_event('click', on_btn_clicked)"
   ]
  },
  {
   "cell_type": "code",
   "execution_count": 6,
   "metadata": {},
   "outputs": [
    {
     "data": {
      "application/vnd.jupyter.widget-view+json": {
       "model_id": "0ec16787fd874044b609f7f49e5f67f7",
       "version_major": 2,
       "version_minor": 0
      },
      "text/plain": [
       "Btn(children=['Ok'])"
      ]
     },
     "metadata": {},
     "output_type": "display_data"
    },
    {
     "name": "stdout",
     "output_type": "stream",
     "text": [
      "Button clicked\n",
      "{'altKey': False, 'ctrlKey': False, 'metaKey': False, 'shiftKey': False, 'offsetX': 298, 'offsetY': 0, 'clientX': 825, 'clientY': 367, 'pageX': 825, 'pageY': 367, 'screenX': 825, 'screenY': 452, 'x': 825, 'y': 367}\n"
     ]
    }
   ],
   "source": [
    "btn"
   ]
  }
 ],
 "metadata": {
  "kernelspec": {
   "display_name": "Python 3 (ipykernel)",
   "language": "python",
   "name": "python3"
  },
  "language_info": {
   "codemirror_mode": {
    "name": "ipython",
    "version": 3
   },
   "file_extension": ".py",
   "mimetype": "text/x-python",
   "name": "python",
   "nbconvert_exporter": "python",
   "pygments_lexer": "ipython3",
   "version": "3.7.0"
  }
 },
 "nbformat": 4,
 "nbformat_minor": 2
}
